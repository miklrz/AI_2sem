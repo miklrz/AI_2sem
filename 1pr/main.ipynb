{
 "cells": [
  {
   "cell_type": "code",
   "execution_count": 43,
   "metadata": {},
   "outputs": [],
   "source": [
    "import random\n",
    "import statistics\n",
    "import math\n",
    "import numpy as np\n",
    "import matplotlib.pyplot as plt\n",
    "from scipy.integrate import simps\n",
    "from numpy import trapz\n",
    "import pandas as pd"
   ]
  },
  {
   "cell_type": "markdown",
   "metadata": {},
   "source": [
    "1.3"
   ]
  },
  {
   "cell_type": "code",
   "execution_count": null,
   "metadata": {},
   "outputs": [],
   "source": [
    "x = 5 >= 2\n",
    "A = {1, 3, 7, 8}\n",
    "B = {2, 4, 5, 10 ,'apple'}\n",
    "C = A&B\n",
    "df = 'Антонова Антонина', 34, 'ж'\n",
    "z = 'type'\n",
    "D = [1, 'title', 2, 'content']\n",
    "\n",
    "print(x, '|' ,type(x) , '\\n', A, '|', type(A) , '\\n', B, '|', type(B) , '\\n', C, '|' ,type(C) , '\\n', df, '|' ,type(df),'\\n', z, '|' ,type(z),'\\n', D, '|' ,type(D))"
   ]
  },
  {
   "cell_type": "markdown",
   "metadata": {},
   "source": [
    "2.3"
   ]
  },
  {
   "cell_type": "code",
   "execution_count": null,
   "metadata": {},
   "outputs": [],
   "source": [
    "x = 125\n",
    "if (x<-5): print('x принадлежит интервалу (-infinity, -5)')\n",
    "elif(x>=-5 and x<=5): print('х принадлежит интервалу [-5, 5]')\n",
    "else: print('х принадлежит интервалу (5, +infinity)')"
   ]
  },
  {
   "cell_type": "markdown",
   "metadata": {},
   "source": [
    "3.3.1"
   ]
  },
  {
   "cell_type": "code",
   "execution_count": null,
   "metadata": {},
   "outputs": [],
   "source": [
    "x = 10\n",
    "while x >=1:\n",
    "    print(x)\n",
    "    x -=3"
   ]
  },
  {
   "cell_type": "markdown",
   "metadata": {},
   "source": [
    "3.3.2"
   ]
  },
  {
   "cell_type": "code",
   "execution_count": null,
   "metadata": {},
   "outputs": [],
   "source": [
    "arr = ['Мыслит', 'Дышит', 'Видит','Слышит','Ест']\n",
    "for i in arr:print(i)"
   ]
  },
  {
   "cell_type": "markdown",
   "metadata": {},
   "source": [
    "3.3.3"
   ]
  },
  {
   "cell_type": "code",
   "execution_count": null,
   "metadata": {},
   "outputs": [],
   "source": [
    "arr = [i for i in range(2,15+1)]\n",
    "for i in arr: print(i)"
   ]
  },
  {
   "cell_type": "markdown",
   "metadata": {},
   "source": [
    "3.3.4"
   ]
  },
  {
   "cell_type": "code",
   "execution_count": null,
   "metadata": {},
   "outputs": [],
   "source": [
    "arr = [i for i in range(5,106,25)]\n",
    "for i in range(len(arr),0,-1):\n",
    "    print(arr[i-1])"
   ]
  },
  {
   "cell_type": "markdown",
   "metadata": {},
   "source": [
    "3.3.5"
   ]
  },
  {
   "cell_type": "code",
   "execution_count": null,
   "metadata": {},
   "outputs": [],
   "source": [
    "x = [0, 1, 2, 3, 4, 5, 6, 7, 8, 9]\n",
    "x[::2] = reversed(x[::2])\n",
    "print(x)"
   ]
  },
  {
   "cell_type": "markdown",
   "metadata": {},
   "source": [
    "4.3.1"
   ]
  },
  {
   "cell_type": "code",
   "execution_count": null,
   "metadata": {},
   "outputs": [],
   "source": [
    "arr = [random.random() for i in range(0,50)]\n",
    "mean = statistics.mean(arr)\n",
    "median = statistics.median(arr)\n",
    "print(\"Среднее значение: \" , mean , \"\\nМедиана: \" , median)\n",
    "marks = [i for i in range(0,50)]\n",
    "plt.show()\n",
    "plt.grid()\n",
    "plt.scatter(marks,arr) "
   ]
  },
  {
   "cell_type": "markdown",
   "metadata": {},
   "source": [
    "4.3.2"
   ]
  },
  {
   "cell_type": "code",
   "execution_count": null,
   "metadata": {},
   "outputs": [],
   "source": [
    "x_1 = np.arange(0,10,1)\n",
    "x_2 = np.arange(0,5,1)\n",
    "y = [(math.sqrt(1 + math.e**math.sqrt(x) + math.cos(x**2)/abs(1 - math.sin(x)**3))) for x in np.arange(0,10,1)]\n",
    "\n",
    "plt.subplot(1,2,1)\n",
    "plt.plot(x_1,y)\n",
    "plt.grid()\n",
    "plt.subplot(1,2,2)\n",
    "plt.scatter(x_2,y[0:int(len(y)/2)])\n",
    "plt.grid()\n",
    "\n",
    "plt.show()\n"
   ]
  },
  {
   "cell_type": "markdown",
   "metadata": {},
   "source": [
    "4.3.3"
   ]
  },
  {
   "cell_type": "code",
   "execution_count": null,
   "metadata": {},
   "outputs": [],
   "source": [
    "x_ = np.arange(0,11,1)\n",
    "y = [abs(math.cos(x*math.e**(math.cos(x)) + math.log(x+1))) for x in x_]\n",
    "plt.plot(x_,y,c = 'r')\n",
    "plt.grid()\n",
    "print(np.trapz(y))\n",
    "plt.fill_between(x_, y)\n",
    "plt.show()"
   ]
  },
  {
   "cell_type": "markdown",
   "metadata": {},
   "source": [
    "4.3.4"
   ]
  },
  {
   "cell_type": "code",
   "execution_count": null,
   "metadata": {},
   "outputs": [],
   "source": [
    "apple = pd.read_csv('AAPL.csv',delimiter=',')\n",
    "google = pd.read_csv('GOOGL.csv',delimter=',')\n",
    "microsoft = pd.read_csv('MSFT.csv', delimeter=',')"
   ]
  }
 ],
 "metadata": {
  "kernelspec": {
   "display_name": "Python 3",
   "language": "python",
   "name": "python3"
  },
  "language_info": {
   "codemirror_mode": {
    "name": "ipython",
    "version": 3
   },
   "file_extension": ".py",
   "mimetype": "text/x-python",
   "name": "python",
   "nbconvert_exporter": "python",
   "pygments_lexer": "ipython3",
   "version": "3.12.0"
  }
 },
 "nbformat": 4,
 "nbformat_minor": 2
}
